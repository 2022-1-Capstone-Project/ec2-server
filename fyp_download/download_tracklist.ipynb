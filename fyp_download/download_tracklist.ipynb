{
 "cells": [
  {
   "cell_type": "code",
   "execution_count": 3,
   "id": "ecca6b3c",
   "metadata": {},
   "outputs": [],
   "source": [
    "import sys\n",
    "import time\n",
    "from selenium import webdriver\n",
    "# from selenium.webdriver.common.action_chains import ActionChains\n",
    "from selenium.webdriver.common.keys import Keys\n",
    "from selenium.webdriver.common.by import By\n",
    "from selenium.webdriver.chrome.service import Service\n",
    "from webdriver_manager.chrome import ChromeDriverManager"
   ]
  },
  {
   "cell_type": "code",
   "execution_count": 7,
   "id": "965ad73c",
   "metadata": {},
   "outputs": [
    {
     "name": "stdout",
     "output_type": "stream",
     "text": [
      "\n"
     ]
    },
    {
     "name": "stderr",
     "output_type": "stream",
     "text": [
      "[WDM] - ====== WebDriver manager ======\n",
      "[WDM] - Current google-chrome version is 102.0.5005\n",
      "[WDM] - Get LATEST chromedriver version for 102.0.5005 google-chrome\n",
      "[WDM] - Driver [C:\\Users\\yoondain\\.wdm\\drivers\\chromedriver\\win32\\102.0.5005.61\\chromedriver.exe] found in cache\n",
      "C:\\Users\\yoondain\\AppData\\Local\\Temp/ipykernel_6432/2466540280.py:22: DeprecationWarning: find_element_by_css_selector is deprecated. Please use find_element(by=By.CSS_SELECTOR, value=css_selector) instead\n",
      "  current = driver.find_element_by_css_selector(f'#content > div > div.l-listen-wrapper > div.l-about-main > div > div.l-about-row.l-listen__mainContent > div.l-about-right > div > div.listenDetails__trackList > div > ul > li:nth-child({i}) > div > div.trackItem__content.sc-truncate > a.trackItem__trackTitle.sc-link-dark.sc-link-primary.sc-font-light')\n"
     ]
    },
    {
     "name": "stdout",
     "output_type": "stream",
     "text": [
      "1 https://soundcloud.com/koronoro-x/bigbang-reflection?in=pk74upa9gq5v/sets/kiseki//s-LzOOhtvzfYq\n",
      "2 https://soundcloud.com/cuthbert-ngiam/music-mv-mp3?in=pk74upa9gq5v/sets/kiseki//s-LzOOhtvzfYq\n",
      "3 https://soundcloud.com/cathleen-rio/owaranai-symphonia-endless-symphonia?in=pk74upa9gq5v/sets/kiseki//s-LzOOhtvzfYq\n",
      "4 https://soundcloud.com/moca-765367221/dttw6oly6mg6?in=pk74upa9gq5v/sets/kiseki//s-LzOOhtvzfYq\n",
      "5 https://soundcloud.com/moca-765367221/melody-in-the-dark?in=pk74upa9gq5v/sets/kiseki//s-LzOOhtvzfYq\n",
      "6 https://soundcloud.com/starrymoray/ensemble-stars-unit-song-1st-1?in=pk74upa9gq5v/sets/kiseki//s-LzOOhtvzfYq\n",
      "7 https://soundcloud.com/user-540106876/the-tempest-night-full?in=pk74upa9gq5v/sets/kiseki//s-LzOOhtvzfYq\n",
      "8 https://soundcloud.com/user-16038432/honeycomb-summer?in=pk74upa9gq5v/sets/kiseki//s-LzOOhtvzfYq\n",
      "9 https://soundcloud.com/tashia-play-the-music-956975455/breakthrough-trickstar?in=pk74upa9gq5v/sets/kiseki//s-LzOOhtvzfYq\n",
      "10 https://soundcloud.com/moca-765367221/holy-angels-carol?in=pk74upa9gq5v/sets/kiseki//s-LzOOhtvzfYq\n",
      "11 https://soundcloud.com/mars-355945972/sunlit-smile?in=pk74upa9gq5v/sets/kiseki//s-LzOOhtvzfYq\n",
      "12 https://soundcloud.com/koronoro-x/ensemble-stars-idol-song-2?in=pk74upa9gq5v/sets/kiseki//s-LzOOhtvzfYq\n",
      "13 https://soundcloud.com/ferret-lie/only-your-stars-trickstar-ver?in=pk74upa9gq5v/sets/kiseki//s-LzOOhtvzfYq\n",
      "14 https://soundcloud.com/mars-355945972/believe-4-leaves?in=pk74upa9gq5v/sets/kiseki//s-LzOOhtvzfYq\n",
      "15 https://soundcloud.com/mars-355945972/deep-eclipse-eden?in=pk74upa9gq5v/sets/kiseki//s-LzOOhtvzfYq\n"
     ]
    },
    {
     "ename": "NoSuchElementException",
     "evalue": "Message: no such element: Unable to locate element: {\"method\":\"css selector\",\"selector\":\"#content > div > div.l-listen-wrapper > div.l-about-main > div > div.l-about-row.l-listen__mainContent > div.l-about-right > div > div.listenDetails__trackList > div > ul > li:nth-child(16) > div > div.trackItem__content.sc-truncate > a.trackItem__trackTitle.sc-link-dark.sc-link-primary.sc-font-light\"}\n  (Session info: chrome=102.0.5005.63)\nStacktrace:\nBacktrace:\n\tOrdinal0 [0x0123D953+2414931]\n\tOrdinal0 [0x011CF5E1+1963489]\n\tOrdinal0 [0x010BC6B8+837304]\n\tOrdinal0 [0x010E9500+1021184]\n\tOrdinal0 [0x010E979B+1021851]\n\tOrdinal0 [0x01116502+1205506]\n\tOrdinal0 [0x011044E4+1131748]\n\tOrdinal0 [0x01114812+1198098]\n\tOrdinal0 [0x011042B6+1131190]\n\tOrdinal0 [0x010DE860+976992]\n\tOrdinal0 [0x010DF756+980822]\n\tGetHandleVerifier [0x014ACC62+2510274]\n\tGetHandleVerifier [0x0149F760+2455744]\n\tGetHandleVerifier [0x012CEABA+551962]\n\tGetHandleVerifier [0x012CD916+547446]\n\tOrdinal0 [0x011D5F3B+1990459]\n\tOrdinal0 [0x011DA898+2009240]\n\tOrdinal0 [0x011DA985+2009477]\n\tOrdinal0 [0x011E3AD1+2046673]\n\tBaseThreadInitThunk [0x762AFA29+25]\n\tRtlGetAppContainerNamedObjectPath [0x77D67A7E+286]\n\tRtlGetAppContainerNamedObjectPath [0x77D67A4E+238]\n",
     "output_type": "error",
     "traceback": [
      "\u001b[1;31m---------------------------------------------------------------------------\u001b[0m",
      "\u001b[1;31mNoSuchElementException\u001b[0m                    Traceback (most recent call last)",
      "\u001b[1;32m~\\AppData\\Local\\Temp/ipykernel_6432/2466540280.py\u001b[0m in \u001b[0;36m<module>\u001b[1;34m\u001b[0m\n\u001b[0;32m     20\u001b[0m \u001b[1;33m\u001b[0m\u001b[0m\n\u001b[0;32m     21\u001b[0m \u001b[1;32mfor\u001b[0m \u001b[0mi\u001b[0m \u001b[1;32min\u001b[0m \u001b[0mrange\u001b[0m\u001b[1;33m(\u001b[0m\u001b[1;36m1\u001b[0m\u001b[1;33m,\u001b[0m \u001b[1;36m17\u001b[0m\u001b[1;33m,\u001b[0m \u001b[1;36m1\u001b[0m\u001b[1;33m)\u001b[0m\u001b[1;33m:\u001b[0m\u001b[1;33m\u001b[0m\u001b[1;33m\u001b[0m\u001b[0m\n\u001b[1;32m---> 22\u001b[1;33m     \u001b[0mcurrent\u001b[0m \u001b[1;33m=\u001b[0m \u001b[0mdriver\u001b[0m\u001b[1;33m.\u001b[0m\u001b[0mfind_element_by_css_selector\u001b[0m\u001b[1;33m(\u001b[0m\u001b[1;34mf'#content > div > div.l-listen-wrapper > div.l-about-main > div > div.l-about-row.l-listen__mainContent > div.l-about-right > div > div.listenDetails__trackList > div > ul > li:nth-child({i}) > div > div.trackItem__content.sc-truncate > a.trackItem__trackTitle.sc-link-dark.sc-link-primary.sc-font-light'\u001b[0m\u001b[1;33m)\u001b[0m\u001b[1;33m\u001b[0m\u001b[1;33m\u001b[0m\u001b[0m\n\u001b[0m\u001b[0;32m     23\u001b[0m     \u001b[0mlink\u001b[0m \u001b[1;33m=\u001b[0m \u001b[0mcurrent\u001b[0m\u001b[1;33m.\u001b[0m\u001b[0mget_attribute\u001b[0m\u001b[1;33m(\u001b[0m\u001b[1;34m'href'\u001b[0m\u001b[1;33m)\u001b[0m\u001b[1;33m\u001b[0m\u001b[1;33m\u001b[0m\u001b[0m\n\u001b[0;32m     24\u001b[0m     \u001b[0mprint\u001b[0m\u001b[1;33m(\u001b[0m\u001b[0mi\u001b[0m\u001b[1;33m,\u001b[0m\u001b[0mlink\u001b[0m\u001b[1;33m)\u001b[0m\u001b[1;33m\u001b[0m\u001b[1;33m\u001b[0m\u001b[0m\n",
      "\u001b[1;32m~\\anaconda3\\lib\\site-packages\\selenium\\webdriver\\remote\\webdriver.py\u001b[0m in \u001b[0;36mfind_element_by_css_selector\u001b[1;34m(self, css_selector)\u001b[0m\n\u001b[0;32m    807\u001b[0m             \u001b[0mstacklevel\u001b[0m\u001b[1;33m=\u001b[0m\u001b[1;36m2\u001b[0m\u001b[1;33m,\u001b[0m\u001b[1;33m\u001b[0m\u001b[1;33m\u001b[0m\u001b[0m\n\u001b[0;32m    808\u001b[0m         )\n\u001b[1;32m--> 809\u001b[1;33m         \u001b[1;32mreturn\u001b[0m \u001b[0mself\u001b[0m\u001b[1;33m.\u001b[0m\u001b[0mfind_element\u001b[0m\u001b[1;33m(\u001b[0m\u001b[0mby\u001b[0m\u001b[1;33m=\u001b[0m\u001b[0mBy\u001b[0m\u001b[1;33m.\u001b[0m\u001b[0mCSS_SELECTOR\u001b[0m\u001b[1;33m,\u001b[0m \u001b[0mvalue\u001b[0m\u001b[1;33m=\u001b[0m\u001b[0mcss_selector\u001b[0m\u001b[1;33m)\u001b[0m\u001b[1;33m\u001b[0m\u001b[1;33m\u001b[0m\u001b[0m\n\u001b[0m\u001b[0;32m    810\u001b[0m \u001b[1;33m\u001b[0m\u001b[0m\n\u001b[0;32m    811\u001b[0m     \u001b[1;32mdef\u001b[0m \u001b[0mfind_elements_by_css_selector\u001b[0m\u001b[1;33m(\u001b[0m\u001b[0mself\u001b[0m\u001b[1;33m,\u001b[0m \u001b[0mcss_selector\u001b[0m\u001b[1;33m)\u001b[0m \u001b[1;33m->\u001b[0m \u001b[0mList\u001b[0m\u001b[1;33m[\u001b[0m\u001b[0mWebElement\u001b[0m\u001b[1;33m]\u001b[0m\u001b[1;33m:\u001b[0m\u001b[1;33m\u001b[0m\u001b[1;33m\u001b[0m\u001b[0m\n",
      "\u001b[1;32m~\\anaconda3\\lib\\site-packages\\selenium\\webdriver\\remote\\webdriver.py\u001b[0m in \u001b[0;36mfind_element\u001b[1;34m(self, by, value)\u001b[0m\n\u001b[0;32m   1246\u001b[0m             \u001b[0mvalue\u001b[0m \u001b[1;33m=\u001b[0m \u001b[1;34m'[name=\"%s\"]'\u001b[0m \u001b[1;33m%\u001b[0m \u001b[0mvalue\u001b[0m\u001b[1;33m\u001b[0m\u001b[1;33m\u001b[0m\u001b[0m\n\u001b[0;32m   1247\u001b[0m \u001b[1;33m\u001b[0m\u001b[0m\n\u001b[1;32m-> 1248\u001b[1;33m         return self.execute(Command.FIND_ELEMENT, {\n\u001b[0m\u001b[0;32m   1249\u001b[0m             \u001b[1;34m'using'\u001b[0m\u001b[1;33m:\u001b[0m \u001b[0mby\u001b[0m\u001b[1;33m,\u001b[0m\u001b[1;33m\u001b[0m\u001b[1;33m\u001b[0m\u001b[0m\n\u001b[0;32m   1250\u001b[0m             'value': value})['value']\n",
      "\u001b[1;32m~\\anaconda3\\lib\\site-packages\\selenium\\webdriver\\remote\\webdriver.py\u001b[0m in \u001b[0;36mexecute\u001b[1;34m(self, driver_command, params)\u001b[0m\n\u001b[0;32m    423\u001b[0m         \u001b[0mresponse\u001b[0m \u001b[1;33m=\u001b[0m \u001b[0mself\u001b[0m\u001b[1;33m.\u001b[0m\u001b[0mcommand_executor\u001b[0m\u001b[1;33m.\u001b[0m\u001b[0mexecute\u001b[0m\u001b[1;33m(\u001b[0m\u001b[0mdriver_command\u001b[0m\u001b[1;33m,\u001b[0m \u001b[0mparams\u001b[0m\u001b[1;33m)\u001b[0m\u001b[1;33m\u001b[0m\u001b[1;33m\u001b[0m\u001b[0m\n\u001b[0;32m    424\u001b[0m         \u001b[1;32mif\u001b[0m \u001b[0mresponse\u001b[0m\u001b[1;33m:\u001b[0m\u001b[1;33m\u001b[0m\u001b[1;33m\u001b[0m\u001b[0m\n\u001b[1;32m--> 425\u001b[1;33m             \u001b[0mself\u001b[0m\u001b[1;33m.\u001b[0m\u001b[0merror_handler\u001b[0m\u001b[1;33m.\u001b[0m\u001b[0mcheck_response\u001b[0m\u001b[1;33m(\u001b[0m\u001b[0mresponse\u001b[0m\u001b[1;33m)\u001b[0m\u001b[1;33m\u001b[0m\u001b[1;33m\u001b[0m\u001b[0m\n\u001b[0m\u001b[0;32m    426\u001b[0m             response['value'] = self._unwrap_value(\n\u001b[0;32m    427\u001b[0m                 response.get('value', None))\n",
      "\u001b[1;32m~\\anaconda3\\lib\\site-packages\\selenium\\webdriver\\remote\\errorhandler.py\u001b[0m in \u001b[0;36mcheck_response\u001b[1;34m(self, response)\u001b[0m\n\u001b[0;32m    245\u001b[0m                 \u001b[0malert_text\u001b[0m \u001b[1;33m=\u001b[0m \u001b[0mvalue\u001b[0m\u001b[1;33m[\u001b[0m\u001b[1;34m'alert'\u001b[0m\u001b[1;33m]\u001b[0m\u001b[1;33m.\u001b[0m\u001b[0mget\u001b[0m\u001b[1;33m(\u001b[0m\u001b[1;34m'text'\u001b[0m\u001b[1;33m)\u001b[0m\u001b[1;33m\u001b[0m\u001b[1;33m\u001b[0m\u001b[0m\n\u001b[0;32m    246\u001b[0m             \u001b[1;32mraise\u001b[0m \u001b[0mexception_class\u001b[0m\u001b[1;33m(\u001b[0m\u001b[0mmessage\u001b[0m\u001b[1;33m,\u001b[0m \u001b[0mscreen\u001b[0m\u001b[1;33m,\u001b[0m \u001b[0mstacktrace\u001b[0m\u001b[1;33m,\u001b[0m \u001b[0malert_text\u001b[0m\u001b[1;33m)\u001b[0m  \u001b[1;31m# type: ignore[call-arg]  # mypy is not smart enough here\u001b[0m\u001b[1;33m\u001b[0m\u001b[1;33m\u001b[0m\u001b[0m\n\u001b[1;32m--> 247\u001b[1;33m         \u001b[1;32mraise\u001b[0m \u001b[0mexception_class\u001b[0m\u001b[1;33m(\u001b[0m\u001b[0mmessage\u001b[0m\u001b[1;33m,\u001b[0m \u001b[0mscreen\u001b[0m\u001b[1;33m,\u001b[0m \u001b[0mstacktrace\u001b[0m\u001b[1;33m)\u001b[0m\u001b[1;33m\u001b[0m\u001b[1;33m\u001b[0m\u001b[0m\n\u001b[0m\u001b[0;32m    248\u001b[0m \u001b[1;33m\u001b[0m\u001b[0m\n\u001b[0;32m    249\u001b[0m     \u001b[1;32mdef\u001b[0m \u001b[0m_value_or_default\u001b[0m\u001b[1;33m(\u001b[0m\u001b[0mself\u001b[0m\u001b[1;33m,\u001b[0m \u001b[0mobj\u001b[0m\u001b[1;33m:\u001b[0m \u001b[0mMapping\u001b[0m\u001b[1;33m[\u001b[0m\u001b[0m_KT\u001b[0m\u001b[1;33m,\u001b[0m \u001b[0m_VT\u001b[0m\u001b[1;33m]\u001b[0m\u001b[1;33m,\u001b[0m \u001b[0mkey\u001b[0m\u001b[1;33m:\u001b[0m \u001b[0m_KT\u001b[0m\u001b[1;33m,\u001b[0m \u001b[0mdefault\u001b[0m\u001b[1;33m:\u001b[0m \u001b[0m_VT\u001b[0m\u001b[1;33m)\u001b[0m \u001b[1;33m->\u001b[0m \u001b[0m_VT\u001b[0m\u001b[1;33m:\u001b[0m\u001b[1;33m\u001b[0m\u001b[1;33m\u001b[0m\u001b[0m\n",
      "\u001b[1;31mNoSuchElementException\u001b[0m: Message: no such element: Unable to locate element: {\"method\":\"css selector\",\"selector\":\"#content > div > div.l-listen-wrapper > div.l-about-main > div > div.l-about-row.l-listen__mainContent > div.l-about-right > div > div.listenDetails__trackList > div > ul > li:nth-child(16) > div > div.trackItem__content.sc-truncate > a.trackItem__trackTitle.sc-link-dark.sc-link-primary.sc-font-light\"}\n  (Session info: chrome=102.0.5005.63)\nStacktrace:\nBacktrace:\n\tOrdinal0 [0x0123D953+2414931]\n\tOrdinal0 [0x011CF5E1+1963489]\n\tOrdinal0 [0x010BC6B8+837304]\n\tOrdinal0 [0x010E9500+1021184]\n\tOrdinal0 [0x010E979B+1021851]\n\tOrdinal0 [0x01116502+1205506]\n\tOrdinal0 [0x011044E4+1131748]\n\tOrdinal0 [0x01114812+1198098]\n\tOrdinal0 [0x011042B6+1131190]\n\tOrdinal0 [0x010DE860+976992]\n\tOrdinal0 [0x010DF756+980822]\n\tGetHandleVerifier [0x014ACC62+2510274]\n\tGetHandleVerifier [0x0149F760+2455744]\n\tGetHandleVerifier [0x012CEABA+551962]\n\tGetHandleVerifier [0x012CD916+547446]\n\tOrdinal0 [0x011D5F3B+1990459]\n\tOrdinal0 [0x011DA898+2009240]\n\tOrdinal0 [0x011DA985+2009477]\n\tOrdinal0 [0x011E3AD1+2046673]\n\tBaseThreadInitThunk [0x762AFA29+25]\n\tRtlGetAppContainerNamedObjectPath [0x77D67A7E+286]\n\tRtlGetAppContainerNamedObjectPath [0x77D67A4E+238]\n"
     ]
    }
   ],
   "source": [
    "options = webdriver.ChromeOptions()\n",
    "#options.add_experimental_option('prefs', {'download.default_directory': download_path}) # 저장할 경로 저장\n",
    "options.add_experimental_option(\"excludeSwitches\", [\"enable-logging\"]) # 에러 안뜨게 하는건데 뭔지 모름... \n",
    "\n",
    "# 상황에 맞게 주석처리하면 될듯. \n",
    "# options.add_argument('--headless') # 화면 안뜨게 하는 것 \n",
    "options.add_argument('--no-sandbox') # ??\n",
    "options.add_argument('--disable-dev-shm-usage') #??\n",
    "\n",
    "'''\n",
    "맞는 executable_path 경로 설정해주세요\n",
    "'''\n",
    "# driver = webdriver.Chrome(executable_path=\"/home/ubuntu/face-your-pace-function/download/chromedriver\",options=options)\n",
    "driver = webdriver.Chrome(options=options,service=Service(ChromeDriverManager().install()))\n",
    "# selenium 4버전 부터 이런 식으로 sevice 변수로 여는 것을 권장하나봐요 찾아보니까 이렇게 나왔어요. 이렇게 작동 안되면 100번째 줄처럼 그냥 하시면 돼요\n",
    "\n",
    "link = 'https://soundcloud.com/pk74upa9gq5v/sets/kiseki/s-LzOOhtvzfYq?utm_source=clipboard&utm_medium=text&utm_campaign=social_sharing'\n",
    "driver.get(link)\n",
    "time.sleep(1)\n",
    "\n",
    "for i in range(1, 17, 1):\n",
    "    current = driver.find_element_by_css_selector(f'#content > div > div.l-listen-wrapper > div.l-about-main > div > div.l-about-row.l-listen__mainContent > div.l-about-right > div > div.listenDetails__trackList > div > ul > li:nth-child({i}) > div > div.trackItem__content.sc-truncate > a.trackItem__trackTitle.sc-link-dark.sc-link-primary.sc-font-light')\n",
    "    link = current.get_attribute('href')\n",
    "    # 15개마다 스크롤 하고 sleep()\n",
    "    print(i,link)"
   ]
  },
  {
   "cell_type": "code",
   "execution_count": null,
   "id": "4a9061ac",
   "metadata": {},
   "outputs": [],
   "source": []
  },
  {
   "cell_type": "code",
   "execution_count": null,
   "id": "d1e6c013",
   "metadata": {},
   "outputs": [],
   "source": [
    "for i in range(1, 17, 1):\n",
    "    current = driver.find_element_by_css_selector(f'#content > div > div.l-listen-wrapper > div.l-about-main > div > div.l-about-row.l-listen__mainContent > div.l-about-right > div > div.listenDetails__trackList > div > ul > li:nth-child({i}) > div > div.trackItem__content.sc-truncate > a.trackItem__trackTitle.sc-link-dark.sc-link-primary.sc-font-light')\n",
    "    link = current.get_attribute('href')\n",
    "    print(link)"
   ]
  },
  {
   "cell_type": "code",
   "execution_count": null,
   "id": "9f897038",
   "metadata": {},
   "outputs": [],
   "source": []
  }
 ],
 "metadata": {
  "kernelspec": {
   "display_name": "Python 3 (ipykernel)",
   "language": "python",
   "name": "python3"
  },
  "language_info": {
   "codemirror_mode": {
    "name": "ipython",
    "version": 3
   },
   "file_extension": ".py",
   "mimetype": "text/x-python",
   "name": "python",
   "nbconvert_exporter": "python",
   "pygments_lexer": "ipython3",
   "version": "3.9.7"
  }
 },
 "nbformat": 4,
 "nbformat_minor": 5
}
