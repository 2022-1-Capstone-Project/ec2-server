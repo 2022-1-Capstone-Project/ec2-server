{
 "cells": [
  {
   "cell_type": "code",
   "execution_count": 1,
   "id": "7e3d7638",
   "metadata": {},
   "outputs": [],
   "source": [
    "import time\n",
    "from selenium import webdriver\n",
    "\n",
    "\n",
    "from selenium.webdriver.common.action_chains import ActionChains\n",
    "from selenium.webdriver.common.keys import Keys\n",
    "\n",
    "from selenium.webdriver.common.by import By\n",
    "import pyperclip"
   ]
  },
  {
   "cell_type": "code",
   "execution_count": 2,
   "id": "fe8f8f0f",
   "metadata": {},
   "outputs": [],
   "source": [
    "def copy_input(xpath, input):\n",
    "    pyperclip.copy(input)\n",
    "    #driver.find_element_by_xpath(xpath).click()\n",
    "    driver.find_element(By.XPATH, value = xpath).click()\n",
    "    ActionChains(driver).key_down(Keys.CONTROL).send_keys('v').key_up(Keys.CONTROL).perform()"
   ]
  },
  {
   "cell_type": "code",
   "execution_count": 9,
   "id": "99ce4ce3",
   "metadata": {},
   "outputs": [
    {
     "name": "stderr",
     "output_type": "stream",
     "text": [
      "C:\\Users\\yoondain\\AppData\\Local\\Temp/ipykernel_19232/4112748601.py:3: DeprecationWarning: executable_path has been deprecated, please pass in a Service object\n",
      "  driver = webdriver.Chrome('chromedriver.exe')\n"
     ]
    },
    {
     "name": "stdout",
     "output_type": "stream",
     "text": [
      "download 1\n",
      "download 1 end\n",
      "6.314882040023804\n",
      "download 2\n",
      "123123\n",
      "download 2 end\n"
     ]
    }
   ],
   "source": [
    "test_link = 'https://soundcloud.com/ferret-lie/only-your-stars-trickstar-ver'\n",
    "\n",
    "driver = webdriver.Chrome('chromedriver.exe')     \n",
    "driver.implicitly_wait(3)\n",
    "\n",
    "download_link = 'https://downcloud.cc/'\n",
    "driver.get(download_link)\n",
    "time.sleep(1)\n",
    "\n",
    "# 링크 입력\n",
    "input_xpath = '//*[@id=\"main-url-input\"]' #/html/body/div[1]/div[2]/div/div[1]/div/input #full Spath\n",
    "copy_input(input_xpath, test_link)\n",
    "time.sleep(1)\n",
    "\n",
    "#  wav 선택 창\n",
    "click_xpath = '/html/body/div[1]/div[2]/div/div[1]/select/option[7]'#'//*[@id=\"main-format-select-vanilla\"]n'\n",
    "#driver.find_element_by_xpath(click_xpath).click()\n",
    "driver.find_element(By.XPATH, value = click_xpath).click()\n",
    "# driver.implicitly_wait(600)\n",
    "time.sleep(1)\n",
    "\n",
    "print('download 1')\n",
    "# download 클릭 (loading 있음)\n",
    "click_xpath = '//*[@id=\"main-download-button\"]'#'/html/body/div[1]/div[2]/div/div[2]/button'\n",
    "#driver.find_element_by_xpath(click_xpath).click()\n",
    "driver.find_element(By.XPATH, value = click_xpath).click()\n",
    "#driver.find_element_by_xpath(click_xpath).send_keys(Keys.ENTER)\n",
    "#driver.implicitly_wait(600)\n",
    "# print('time sleep start')\n",
    "# time.sleep(15)\n",
    "# print('time sleep end')\n",
    "print('download 1 end')\n",
    "\n",
    "\n",
    "\n",
    "\n",
    "st = time.time()\n",
    "\n",
    "path = '/html/body/div[1]/div[5]/div/div/div[1]/p[2]'#'//*[@id=\"1652370417155\"]/div/div[1]/p[2]'\n",
    "\n",
    "while(True):\n",
    "    \n",
    "    #print(1)\n",
    "    temperature_xpath=driver.find_element(By.XPATH, value = path)\n",
    "    #print(2)\n",
    "    #print(type(temperature_xpath))\n",
    "    temperature = temperature_xpath.text \n",
    "    #print(3)\n",
    "    #print(temperature, end = '  ')\n",
    "    if temperature == '100%': break\n",
    "\n",
    "\n",
    "\n",
    "end = time.time()\n",
    "print(end-st)\n",
    "\n",
    "time.sleep(7)\n",
    "\n",
    "print('download 2')\n",
    "# final download 클릭 (음원 download)\n",
    "click_xpath = '/html/body/div[1]/div[5]/div/a[2]'\n",
    "\n",
    "\n",
    "# /html/body/div[1]/div[5]/div/a[2]\n",
    "# /html/body/div[1]/div[5]/div[2]/a[2]\n",
    "\n",
    "# '/html/body/div[1]/div[2]/div/div[2]/button' #/html/body/div[1]/div[5]/div[1]/a[2]\n",
    "#print(click_xpath)\n",
    "#driver.find_element_by_xpath(click_xpath).click()\n",
    "#element=driver.find_element(By.XPATH, value = click_xpath).click()\n",
    "#driver.find_element_by_xpath(click_xpath).send_keys(Keys.ENTER) #'\\n'\n",
    "#driver.implicitly_wait(600)\n",
    "driver.find_element(By.XPATH, value = click_xpath).click()\n",
    "#print(type(element))\n",
    "\n",
    "\n",
    "#element = driver.find_element_by_xpath(click_xpath)\n",
    "#element = driver.find_element(By.NAME, value = ' Download')\n",
    "print(123123)\n",
    "#driver.execute_script(\"arguments[0].click();\", element)\n",
    "\n",
    "\n",
    "print('download 2 end')\n",
    "\n",
    "\n",
    "\n",
    "# //*[@id=\"1652373448149\"]/a[1]\n",
    "# //*[@id=\"1652373448149\"]/a[2]\n",
    "\n",
    "# //*[@id=\"1652373448149\"]/a[2]\n",
    "\n",
    "#driver.close()\n",
    "\n",
    "\n"
   ]
  },
  {
   "cell_type": "code",
   "execution_count": null,
   "id": "c2780746",
   "metadata": {},
   "outputs": [],
   "source": []
  }
 ],
 "metadata": {
  "kernelspec": {
   "display_name": "Python 3 (ipykernel)",
   "language": "python",
   "name": "python3"
  },
  "language_info": {
   "codemirror_mode": {
    "name": "ipython",
    "version": 3
   },
   "file_extension": ".py",
   "mimetype": "text/x-python",
   "name": "python",
   "nbconvert_exporter": "python",
   "pygments_lexer": "ipython3",
   "version": "3.9.7"
  }
 },
 "nbformat": 4,
 "nbformat_minor": 5
}
