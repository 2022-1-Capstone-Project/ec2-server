{
 "cells": [
  {
   "cell_type": "code",
   "execution_count": 1,
   "id": "4a344d0c",
   "metadata": {},
   "outputs": [],
   "source": [
    "from playsound import playsound\n",
    "import librosa\n",
    "import ffmpeg\n",
    "import multiprocessing\n",
    "#import vlc \n",
    "import time\n",
    "import wave\n",
    "import pydub\n",
    "import wave\n",
    "import os, sys\n",
    "from pydub import AudioSegment\n",
    "from pydub.playback import play\n",
    "\n",
    "\n",
    "import soundfile as sf\n",
    "import pyrubberband as pyrb"
   ]
  },
  {
   "cell_type": "code",
   "execution_count": 2,
   "id": "b7e7d421",
   "metadata": {},
   "outputs": [],
   "source": [
    "y,sr = sf.read('test.wav')"
   ]
  },
  {
   "cell_type": "markdown",
   "id": "a5778f6d",
   "metadata": {},
   "source": [
    "for i in range(0,2):\n",
    "    print(i)\n",
    "    #playsound('test.wav')\n",
    "    time.sleep(5)\n"
   ]
  },
  {
   "cell_type": "code",
   "execution_count": null,
   "id": "a23de62f",
   "metadata": {},
   "outputs": [],
   "source": []
  },
  {
   "cell_type": "code",
   "execution_count": 11,
   "id": "2ce6d2c7",
   "metadata": {},
   "outputs": [],
   "source": [
    "song = AudioSegment.from_wav(\"test.wav\")"
   ]
  },
  {
   "cell_type": "code",
   "execution_count": 5,
   "id": "8c14a9af",
   "metadata": {},
   "outputs": [
    {
     "data": {
      "text/plain": [
       "pydub.audio_segment.AudioSegment"
      ]
     },
     "execution_count": 5,
     "metadata": {},
     "output_type": "execute_result"
    }
   ],
   "source": [
    "type(song)"
   ]
  },
  {
   "cell_type": "markdown",
   "id": "336caebe",
   "metadata": {},
   "source": [
    "# repeat music using pygame and mixer"
   ]
  },
  {
   "cell_type": "code",
   "execution_count": 2,
   "id": "3169404c",
   "metadata": {},
   "outputs": [],
   "source": [
    "import pygame"
   ]
  },
  {
   "cell_type": "code",
   "execution_count": 3,
   "id": "a70e7589",
   "metadata": {},
   "outputs": [],
   "source": [
    "from pygame import mixer\n",
    "pygame.init()\n",
    "mixer.init()"
   ]
  },
  {
   "cell_type": "code",
   "execution_count": 4,
   "id": "2d12c204",
   "metadata": {},
   "outputs": [],
   "source": [
    "pygame.mixer.music.load('test.wav')"
   ]
  },
  {
   "cell_type": "code",
   "execution_count": 5,
   "id": "eabde40b",
   "metadata": {},
   "outputs": [],
   "source": [
    "repeat_num = 2\n",
    "pygame.mixer.music.play(repeat_num) "
   ]
  },
  {
   "cell_type": "markdown",
   "id": "d9847d7b",
   "metadata": {},
   "source": [
    "# pause, unpause, stop, play using keyboard input"
   ]
  },
  {
   "cell_type": "code",
   "execution_count": 9,
   "id": "e470f674",
   "metadata": {},
   "outputs": [],
   "source": [
    "import keyboard"
   ]
  },
  {
   "cell_type": "code",
   "execution_count": 8,
   "id": "09e22ca2",
   "metadata": {},
   "outputs": [
    {
     "name": "stdout",
     "output_type": "stream",
     "text": [
      "p\n",
      "i\n",
      "u\n",
      "q\n"
     ]
    }
   ],
   "source": [
    "# 코드 다시 짜야함\n",
    "while True:\n",
    "    a = input()\n",
    "    if a=='p':\n",
    "        pygame.mixer.music.pause()\n",
    "    elif a == 'u':\n",
    "        pygame.mixer.music.unpause()\n",
    "    elif a == 's':\n",
    "        pygame.mixer.music.stop()\n",
    "        break\n",
    "    elif a == 'q':\n",
    "        pygame.mixer.music.stop()\n",
    "        break\n",
    "    else:\n",
    "        pass"
   ]
  },
  {
   "cell_type": "code",
   "execution_count": 24,
   "id": "1ee47bee",
   "metadata": {},
   "outputs": [],
   "source": [
    "pygame.mixer.music.stop()"
   ]
  },
  {
   "cell_type": "code",
   "execution_count": 22,
   "id": "9c065a8b",
   "metadata": {},
   "outputs": [],
   "source": [
    "pygame.mixer.music.pause()"
   ]
  },
  {
   "cell_type": "code",
   "execution_count": 21,
   "id": "2856936d",
   "metadata": {},
   "outputs": [],
   "source": [
    "pygame.mixer.music.unpause()"
   ]
  },
  {
   "cell_type": "markdown",
   "id": "7a24839b",
   "metadata": {},
   "source": [
    "## play, stop, pause, unpuase using keyboard"
   ]
  },
  {
   "cell_type": "code",
   "execution_count": 27,
   "id": "6ec49fce",
   "metadata": {},
   "outputs": [],
   "source": [
    "import keyboard"
   ]
  },
  {
   "cell_type": "code",
   "execution_count": null,
   "id": "32e7892f",
   "metadata": {},
   "outputs": [],
   "source": []
  }
 ],
 "metadata": {
  "kernelspec": {
   "display_name": "Python 3 (ipykernel)",
   "language": "python",
   "name": "python3"
  },
  "language_info": {
   "codemirror_mode": {
    "name": "ipython",
    "version": 3
   },
   "file_extension": ".py",
   "mimetype": "text/x-python",
   "name": "python",
   "nbconvert_exporter": "python",
   "pygments_lexer": "ipython3",
   "version": "3.9.7"
  }
 },
 "nbformat": 4,
 "nbformat_minor": 5
}
