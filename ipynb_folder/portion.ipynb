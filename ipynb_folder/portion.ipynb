{
 "cells": [
  {
   "cell_type": "code",
   "execution_count": 1,
   "id": "c1b989d3",
   "metadata": {},
   "outputs": [],
   "source": [
    "from playsound import playsound\n",
    "import librosa\n",
    "import ffmpeg\n",
    "import multiprocessing\n",
    "#import vlc \n",
    "import time\n",
    "import wave\n",
    "import pydub\n",
    "import wave\n",
    "import os, sys\n",
    "from pydub import AudioSegment\n",
    "from pydub.playback import play\n",
    "\n",
    "\n",
    "import soundfile as sf\n",
    "import pyrubberband as pyrb"
   ]
  },
  {
   "cell_type": "code",
   "execution_count": 10,
   "id": "0296f126",
   "metadata": {},
   "outputs": [],
   "source": [
    "from pygame import mixer\n",
    "import pygame\n",
    "pygame.init()\n",
    "mixer.init()"
   ]
  },
  {
   "cell_type": "code",
   "execution_count": 11,
   "id": "d081a0d1",
   "metadata": {},
   "outputs": [],
   "source": [
    "pygame.mixer.music.load('test.wav')"
   ]
  },
  {
   "cell_type": "code",
   "execution_count": 12,
   "id": "5cfabd2b",
   "metadata": {},
   "outputs": [],
   "source": [
    "pygame.mixer.music.play()"
   ]
  },
  {
   "cell_type": "code",
   "execution_count": 13,
   "id": "c8b45332",
   "metadata": {},
   "outputs": [],
   "source": [
    "pygame.mixer.music.stop()"
   ]
  },
  {
   "cell_type": "code",
   "execution_count": null,
   "id": "2d5407ba",
   "metadata": {},
   "outputs": [],
   "source": []
  }
 ],
 "metadata": {
  "kernelspec": {
   "display_name": "Python 3 (ipykernel)",
   "language": "python",
   "name": "python3"
  },
  "language_info": {
   "codemirror_mode": {
    "name": "ipython",
    "version": 3
   },
   "file_extension": ".py",
   "mimetype": "text/x-python",
   "name": "python",
   "nbconvert_exporter": "python",
   "pygments_lexer": "ipython3",
   "version": "3.9.7"
  }
 },
 "nbformat": 4,
 "nbformat_minor": 5
}
