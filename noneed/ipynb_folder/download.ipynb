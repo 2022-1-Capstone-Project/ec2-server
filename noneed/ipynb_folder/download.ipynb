{
 "cells": [
  {
   "cell_type": "code",
   "execution_count": 1,
   "id": "2c40647a",
   "metadata": {},
   "outputs": [],
   "source": [
    "import time\n",
    "from selenium import webdriver\n",
    "\n",
    "from selenium.webdriver.common.action_chains import ActionChains\n",
    "from selenium.webdriver.common.keys import Keys\n",
    "import pyperclip"
   ]
  },
  {
   "cell_type": "code",
   "execution_count": 2,
   "id": "baa6d52d",
   "metadata": {},
   "outputs": [],
   "source": [
    "def copy_input(xpath, input):\n",
    "    pyperclip.copy(input)\n",
    "    driver.find_element_by_xpath(xpath).click()\n",
    "    ActionChains(driver).key_down(Keys.CONTROL).send_keys('v').key_up(Keys.CONTROL).perform()\n",
    "    time.sleep(1)"
   ]
  },
  {
   "cell_type": "code",
   "execution_count": 6,
   "id": "03d6c10e",
   "metadata": {
    "scrolled": true
   },
   "outputs": [
    {
     "name": "stderr",
     "output_type": "stream",
     "text": [
      "C:\\Users\\yoondain\\AppData\\Local\\Temp/ipykernel_15920/1858623904.py:3: DeprecationWarning: executable_path has been deprecated, please pass in a Service object\n",
      "  driver = webdriver.Chrome('chromedriver.exe')\n",
      "C:\\Users\\yoondain\\AppData\\Local\\Temp/ipykernel_15920/299770686.py:3: DeprecationWarning: find_element_by_xpath is deprecated. Please use find_element(by=By.XPATH, value=xpath) instead\n",
      "  driver.find_element_by_xpath(xpath).click()\n",
      "C:\\Users\\yoondain\\AppData\\Local\\Temp/ipykernel_15920/1858623904.py:17: DeprecationWarning: find_element_by_xpath is deprecated. Please use find_element(by=By.XPATH, value=xpath) instead\n",
      "  driver.find_element_by_xpath(click_xpath).click()\n",
      "C:\\Users\\yoondain\\AppData\\Local\\Temp/ipykernel_15920/1858623904.py:23: DeprecationWarning: find_element_by_xpath is deprecated. Please use find_element(by=By.XPATH, value=xpath) instead\n",
      "  driver.find_element_by_xpath(click_xpath).send_keys(Keys.ENTER)\n"
     ]
    }
   ],
   "source": [
    "test_link = 'https://soundcloud.com/ferret-lie/only-your-stars-trickstar-ver'\n",
    "\n",
    "driver = webdriver.Chrome('chromedriver.exe')     \n",
    "driver.implicitly_wait(3)\n",
    "\n",
    "download_link = 'https://soundcloudmp3.org/'\n",
    "driver.get(download_link)\n",
    "time.sleep(1)\n",
    "\n",
    "# 링크 입력\n",
    "input_xpath = '//*[@id=\"conversionForm\"]/div/input[2]'\n",
    "copy_input(input_xpath, test_link)\n",
    "time.sleep(1)\n",
    "\n",
    "#다운로드 버튼 누르기\n",
    "click_xpath = '//*[@id=\"conversionForm\"]/div/span/button/span'\n",
    "driver.find_element_by_xpath(click_xpath).click()\n",
    "driver.implicitly_wait(600)\n",
    "\n",
    "#다운로드 버튼 누르기\n",
    "click_xpath = '//*[@id=\"download-btn\"]'\n",
    "#driver.find_element_by_xpath(click_xpath).click()\n",
    "driver.find_element_by_xpath(click_xpath).send_keys(Keys.ENTER)\n",
    "time.sleep(1)\n"
   ]
  },
  {
   "cell_type": "code",
   "execution_count": null,
   "id": "1d1f678d",
   "metadata": {},
   "outputs": [],
   "source": []
  },
  {
   "cell_type": "code",
   "execution_count": null,
   "id": "4dc9e0b5",
   "metadata": {},
   "outputs": [],
   "source": [
    "driver = webdriver.Chrome('chromedriver.exe')     \n",
    "driver.implicitly_wait(3)\n",
    "\n",
    "driver.get('https://cf-media.sndcdn.com/28q6Ec2P0vga.128.mp3?Policy=eyJTdGF0ZW1lbnQiOlt7IlJlc291cmNlIjoiKjovL2NmLW1lZGlhLnNuZGNkbi5jb20vMjhxNkVjMlAwdmdhLjEyOC5tcDMqIiwiQ29uZGl0aW9uIjp7IkRhdGVMZXNzVGhhbiI6eyJBV1M6RXBvY2hUaW1lIjoxNjQ4MTM0MTM3fX19XX0_&Signature=aZmYfTlgjsKj~TGakVdYfp5ENkDtzmoaNPl0qnqJEcEaV6fM-~pxzfISqEhydIoomtj7EtF6MZXf8EEOg5OQX1gHEUPUUDpN5TUeUHGqRZ9~k9uhWqGsM-T9KJgSd5hsvElVWgBc1IZOvODadAagMyZvcltI8hnh71fizGWI49juHJl0r5UVwFjyg6MaiNo7KA4MPixycKpqYzLvR8KsaT7PDWqBLyHb6ATwvsqdJsUTVUXsP3OcNiQb0dGqYciQ7HFE19pKOWLZSckWPiVaB1pciLlAKylkH1Y3-re3i8JyLAi3kbjaNEYn~Hy0Vy7Y7v8HMzxnFnhKozc6OtMuZQ__&Key-Pair-Id=APKAI6TU7MMXM5DG6EPQ')\n",
    "time.sleep(1)\n",
    "test = driver.find_element_by_css_selector('body > video > source').get_attribute('src')"
   ]
  },
  {
   "cell_type": "code",
   "execution_count": null,
   "id": "7a8c9e5d",
   "metadata": {},
   "outputs": [],
   "source": [
    "test"
   ]
  },
  {
   "cell_type": "code",
   "execution_count": null,
   "id": "6f409748",
   "metadata": {},
   "outputs": [],
   "source": [
    "# Data url로 오디오 파일 크롤링\n",
    "from bs4 import BeautifulSoup\n",
    "import urllib\n",
    "\n",
    "def crawl_audio_url(url):\n",
    "    options = webdriver.ChromeOptions()\n",
    "    options.add_argument('headless')\n",
    "    driver = webdriver.Chrome('chromedriver.exe', options=options)\n",
    "    driver.get(url)\n",
    "    time.sleep(1)    \n",
    "\n",
    "    html = driver.page_source\n",
    "    soup = BeautifulSoup(html,'html.parser')\n",
    "    audio_url = soup.find(type='audio/mpeg').get('src') \n",
    "    urllib.request.urlretrieve(audio_url, '미박 테스트.mp4')\n",
    "    driver.close()"
   ]
  },
  {
   "cell_type": "code",
   "execution_count": null,
   "id": "e71f9af9",
   "metadata": {},
   "outputs": [],
   "source": [
    "import urllib.request\n",
    "\n",
    "opener = urllib.request.URLopener()\n",
    "opener.addheader('User-Agent', 'whatever')\n",
    "filename, headers = opener.retrieve(url, 'Test.pdf')"
   ]
  },
  {
   "cell_type": "code",
   "execution_count": null,
   "id": "dad7b365",
   "metadata": {},
   "outputs": [],
   "source": [
    "import urllib.request\n",
    "from urllib.error import URLError, HTTPError\n",
    "\n",
    "def openurl(url):\n",
    "    # http형식\n",
    "\n",
    "    try:\n",
    "        # 403 방지\n",
    "        headers = {'User-Agent':'Chrome/99.0.4844.74'}\n",
    "        req = urllib.request.Request(url, headers=headers)\n",
    "        html = urllib.request.urlopen(req)\n",
    "\n",
    "    except HTTPError as e:\n",
    "        err = e.read()\n",
    "        code = e.getcode()\n",
    "\n",
    "    source = html.read()\n",
    "    html.close()"
   ]
  },
  {
   "cell_type": "code",
   "execution_count": null,
   "id": "f11ca594",
   "metadata": {},
   "outputs": [],
   "source": [
    "test = 'https://cf-media.sndcdn.com/28q6Ec2P0vga.128.mp3?Policy=eyJTdGF0ZW1lbnQiOlt7IlJlc291cmNlIjoiKjovL2NmLW1lZGlhLnNuZGNkbi5jb20vMjhxNkVjMlAwdmdhLjEyOC5tcDMqIiwiQ29uZGl0aW9uIjp7IkRhdGVMZXNzVGhhbiI6eyJBV1M6RXBvY2hUaW1lIjoxNjQ4MTM0MTM3fX19XX0_&Signature=aZmYfTlgjsKj~TGakVdYfp5ENkDtzmoaNPl0qnqJEcEaV6fM-~pxzfISqEhydIoomtj7EtF6MZXf8EEOg5OQX1gHEUPUUDpN5TUeUHGqRZ9~k9uhWqGsM-T9KJgSd5hsvElVWgBc1IZOvODadAagMyZvcltI8hnh71fizGWI49juHJl0r5UVwFjyg6MaiNo7KA4MPixycKpqYzLvR8KsaT7PDWqBLyHb6ATwvsqdJsUTVUXsP3OcNiQb0dGqYciQ7HFE19pKOWLZSckWPiVaB1pciLlAKylkH1Y3-re3i8JyLAi3kbjaNEYn~Hy0Vy7Y7v8HMzxnFnhKozc6OtMuZQ__&Key-Pair-Id=APKAI6TU7MMXM5DG6EPQ'\n",
    "openurl(test)"
   ]
  },
  {
   "cell_type": "code",
   "execution_count": null,
   "id": "d339a1fc",
   "metadata": {},
   "outputs": [],
   "source": [
    "def change_filename(category, oldname, date, title, mp3=False):\n",
    "    date = re.sub(r'-', '', date)\n",
    "    title = re.sub(r'[\\\\/:*?\"<>|\"]', '', title)\n",
    "    newname = f'{category}_{date}_{title}'\n",
    "    \n",
    "    if mp3:\n",
    "        os.rename(download_path+oldname, download_path+newname+'.mp3')\n",
    "    else:\n",
    "        os.rename(download_path+oldname, download_path+newname+'.mp4')"
   ]
  }
 ],
 "metadata": {
  "kernelspec": {
   "display_name": "Python 3 (ipykernel)",
   "language": "python",
   "name": "python3"
  },
  "language_info": {
   "codemirror_mode": {
    "name": "ipython",
    "version": 3
   },
   "file_extension": ".py",
   "mimetype": "text/x-python",
   "name": "python",
   "nbconvert_exporter": "python",
   "pygments_lexer": "ipython3",
   "version": "3.9.7"
  }
 },
 "nbformat": 4,
 "nbformat_minor": 5
}
